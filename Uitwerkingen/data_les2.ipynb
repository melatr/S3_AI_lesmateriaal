{
 "cells": [
  {
   "cell_type": "markdown",
   "metadata": {},
   "source": [
    "# Data les 2 - Pandas basics, datatypes en visualisaties\n",
    "\n",
    "Notebook bij les 2 van de leerlijn data van S3 - AI. \n",
    "\n",
    "© Auteur: Rianne van Os\n",
    "\n",
    "**Voorbereiding voor deze les:** Lees de theorie in het notebook en maak t/m opdracht 2.5\n",
    "\n",
    "We gaan nu leren werken met pandas, een van de meest gebruikte Pyhton libraries voor data analyse en data science. Deze library is gebouwd op numpy en bevat allerlei functionaliteit om te werken met gestructureerde data, oftewel data die in een excel-sheet past. Dit is zo'n uitgebreide library dat we nooit alles kunnen behandelen, maar om een beeld te krijgen van wat mogelijk is in pandas volgen we de 'getting started' tutorials uit de pandas documentatie (https://pandas.pydata.org/docs/getting_started/intro_tutorials/index.html). \n",
    "Daarnaast leggen we je in de notebooks nog wat andere functionaliteit uit. We verwachten dat je met deze basis genoeg weet om zelf je kennis uit te breiden met behulp van de pandas documentatie, google of een LLM als je dat nodig hebt.\n",
    "\n",
    "Naast pandas zijn er meerdere andere python libraries die in de beroepspraktijk gebruikt worden voor de verwerking van data. Polars (https://pola.rs/) is veelbelovend omdat het sneller is dan pandas. Ook is het mogelijk om in python te werken met database queries in SQL, zoals jullie in S2 gedaan hebben. Wij hebben ervoor gekozen jullie pandas aan te leren omdat dit vooralsnog de meest gebruikte library is onder data scientisten in de praktijk en er omdat er uitgebreide documentatie beschikbaar is.\n",
    "\n",
    "Je zult in dit notebook steeds gevraagd worden een tutorial (of een andere bron) door te nemen en vervolgens een aantal oefenopdrachten te maken. De datasets die in de getting started tutorials gebruikt worden zijn te downloaden op de pagina van de tutorials. Type de voorbeelden zelf uit, run de code en probeer aanpassingen te maken."
   ]
  },
  {
   "cell_type": "markdown",
   "metadata": {},
   "source": [
    "Eerst importeren we pandas, het is gebruikelijk om dit te doen `as pd`. Mogelijk moet je zelf pandas eerst nog installeren."
   ]
  },
  {
   "cell_type": "code",
   "execution_count": null,
   "metadata": {},
   "outputs": [],
   "source": [
    "# Importeer pandas\n",
    "import pandas as pd"
   ]
  },
  {
   "cell_type": "markdown",
   "metadata": {},
   "source": [
    "## DataFrame en Series\n",
    "Volg deze tutorial: https://pandas.pydata.org/docs/getting_started/intro_tutorials/01_table_oriented.html\n",
    "\n",
    "\n",
    "### Data opdracht 2.1\n",
    "1. Creeër een DataFrame met behulp van `pd.DataFrame(...)`  waarbij het dataframe overeenkomt met onderstaande tabel. \n",
    "2. Geef het gemiddelde cijfer van de opdracht weer. (In de tutorial werd de methode .max() genoemd, wat zou je nodig hebben voor het gemiddelde?)\n",
    "3. Geef het laagste cijfer van het tentamen weer.\n",
    "4. Welke statistieken van de cijfers van Opdracht en Tentamen krijg je nog meer als je de `.describe()` methode aanroept op dit dataframe?"
   ]
  },
  {
   "cell_type": "markdown",
   "metadata": {},
   "source": [
    "| Studentnummer |Opdracht | Tentamen | Geslaagd |\n",
    "| ------------- |-------- | -------- | -------- |\n",
    "| 302341 | 5,5 | 6,1 | Ja |\n",
    "| 314345 | 6,2 | 4,2 | Nee |\n",
    "| 374232 | 7,1 | 8,3 | Ja |\n",
    "| 352352 | 9,3 | 7,8 | Ja |"
   ]
  },
  {
   "cell_type": "code",
   "execution_count": null,
   "metadata": {},
   "outputs": [],
   "source": [
    "df = pd.DataFrame({\n",
    "    \"Studentnummer\": [ 302341, 314345],\n",
    "    \"Opdracht\": [ 5.5, 6.2 ],\n",
    "    \"Tentamen\": [ 6.1, 4.2, ],\n",
    "    \"Geslaagd\": [ True, False ]\n",
    "})\n",
    "df"
   ]
  },
  {
   "cell_type": "code",
   "execution_count": null,
   "metadata": {},
   "outputs": [],
   "source": [
    "df['Opdracht'].mean()"
   ]
  },
  {
   "cell_type": "code",
   "execution_count": null,
   "metadata": {},
   "outputs": [],
   "source": [
    "df.Tentamen.min()"
   ]
  },
  {
   "cell_type": "code",
   "execution_count": null,
   "metadata": {},
   "outputs": [],
   "source": [
    "df.describe()"
   ]
  },
  {
   "cell_type": "markdown",
   "metadata": {},
   "source": [
    "## Lezen en schrijven van datasets\n",
    "Volg deze tutorial: https://pandas.pydata.org/docs/getting_started/intro_tutorials/02_read_write.html\n",
    "\n",
    "Gebruik de dataset vgsales.csv voor het maken van onderstaande opdrachten, je kunt deze vinden in databronnen folder. Deze dataset bevat verkoopcijfers van videogames. De data is wat oud, maar is prima om de pandas functionaliteit mee te oefenen. Deze dataset heeft de volgende kolommen:\n",
    "    \n",
    "* Rank - Ranking of overall sales\n",
    "* Name - The games name\n",
    "* Platform - Platform of the games release (i.e. PC,PS4, etc.)\n",
    "* Year - Year of the game's release\n",
    "* Genre - Genre of the game\n",
    "* Publisher - Publisher of the game\n",
    "* NA_Sales - Sales in North America (in millions)\n",
    "* EU_Sales - Sales in Europe (in millions)\n",
    "* JP_Sales - Sales in Japan (in millions)\n",
    "* Other_Sales - Sales in the rest of the world (in millions)\n",
    "* Global_Sales - Total worldwide sales."
   ]
  },
  {
   "cell_type": "markdown",
   "metadata": {},
   "source": [
    "### Data opdracht 2.2\n",
    "\n",
    "Voer de volgende stappen uit:\n",
    "1. Lees de dataset in vgsales.csv in.\n",
    "2. Bekijk de eerste 5 rijen.\n",
    "3. Bekijk de laatste 10 rijen.\n",
    "4. Bekijk de datatypes van de kolommen.\n",
    "5. Welke kolommen bevatten nulls? (Een null-waarde betekent dat dat datapunt mist)\n",
    "6. Schrijf de dataset weg als csv naar je eigen home folder."
   ]
  },
  {
   "cell_type": "code",
   "execution_count": null,
   "metadata": {},
   "outputs": [],
   "source": [
    "vgsales = pd.read_csv(\"../databronnen/vgsales.csv\")\n",
    "vgsales.head(5)"
   ]
  },
  {
   "cell_type": "code",
   "execution_count": null,
   "metadata": {},
   "outputs": [],
   "source": [
    "vgsales[-10:]\n",
    "vgsales.tail(10)"
   ]
  },
  {
   "cell_type": "code",
   "execution_count": null,
   "metadata": {},
   "outputs": [],
   "source": [
    "vgsales.dtypes"
   ]
  },
  {
   "cell_type": "code",
   "execution_count": null,
   "metadata": {},
   "outputs": [],
   "source": [
    "vgsales.isnull().any()"
   ]
  },
  {
   "cell_type": "code",
   "execution_count": null,
   "metadata": {},
   "outputs": [],
   "source": [
    "vgsales.info()"
   ]
  },
  {
   "cell_type": "code",
   "execution_count": null,
   "metadata": {},
   "outputs": [],
   "source": [
    "vgsales.to_csv('~/videogames.csv', sep=';')"
   ]
  },
  {
   "cell_type": "markdown",
   "metadata": {},
   "source": [
    "## Data selectie\n",
    "Volg deze tutorial: https://pandas.pydata.org/docs/getting_started/intro_tutorials/03_subset_data.html"
   ]
  },
  {
   "cell_type": "markdown",
   "metadata": {},
   "source": [
    "Een andere handige functie die je moet kennen is `sort_values()` (zie https://pandas.pydata.org/pandas-docs/stable/reference/api/pandas.DataFrame.sort_values.html). Hiermee kun je je dataset sorteren op een gegeven kolom. "
   ]
  },
  {
   "cell_type": "markdown",
   "metadata": {},
   "source": [
    "### Data opdracht 2.3\n",
    "1. Selecteer enkel de kolom \"EU_Sales\" uit de dataset vgsales.\n",
    "2. Creeër een nieuw DataFrame met alle rijen waarbij Year niet null is. Maak hierbij gebruik van methode notna()\n",
    "3. Creeër een nieuw DataFrame met alle games waarvan de global sales groter was dan 10 miljoen.\n",
    "4. Bij hoeveel games was de global sales kleiner dan 0.5 miljoen?\n",
    "5. Maak een nieuw DataFrame met de 2e t/m de 6e kolom en de 15e t/m de 30e rij.\n",
    "6. Creeër een nieuw dataframe met alleen data van 2006, sorteer deze data op EU_Sales, van hoog naar laag.\n",
    "7. Hoeveel spellen van Nintendo zijn er in 2008 uitgekomen in het Genre Racing?"
   ]
  },
  {
   "cell_type": "code",
   "execution_count": null,
   "metadata": {},
   "outputs": [],
   "source": [
    "vgsales['EU_Sales']"
   ]
  },
  {
   "cell_type": "code",
   "execution_count": null,
   "metadata": {},
   "outputs": [],
   "source": [
    "year = vgsales[vgsales['Year'].notna()]\n",
    "year.isnull().any()"
   ]
  },
  {
   "cell_type": "code",
   "execution_count": null,
   "metadata": {},
   "outputs": [],
   "source": [
    "sales10mil = vgsales[vgsales['Global_Sales'] > 10]\n",
    "sales10mil.tail()"
   ]
  },
  {
   "cell_type": "code",
   "execution_count": null,
   "metadata": {},
   "outputs": [],
   "source": [
    "len(vgsales[vgsales['Global_Sales'] < .5])"
   ]
  },
  {
   "cell_type": "code",
   "execution_count": null,
   "metadata": {},
   "outputs": [],
   "source": [
    "# 5\n",
    "vgsales.iloc[16:32, 1:8]"
   ]
  },
  {
   "cell_type": "code",
   "execution_count": null,
   "metadata": {},
   "outputs": [],
   "source": [
    "vgsales[vgsales['Year'] == 2006].sort_values(\"EU_Sales\", ascending=False)"
   ]
  },
  {
   "cell_type": "code",
   "execution_count": null,
   "metadata": {},
   "outputs": [],
   "source": [
    "len( vgsales[vgsales[\"Genre\"] == \"Racing\"][vgsales[\"Publisher\"] == \"Nintendo\"] )"
   ]
  },
  {
   "cell_type": "code",
   "execution_count": null,
   "metadata": {},
   "outputs": [],
   "source": [
    "# of \n",
    "len(vgsales[ (vgsales[\"Genre\"] == \"Racing\") & (vgsales[\"Publisher\"] == \"Nintendo\")])"
   ]
  },
  {
   "cell_type": "markdown",
   "metadata": {},
   "source": [
    "## Kolommen toevoegen en verwijderen\n",
    "Volg deze tutorial: https://pandas.pydata.org/docs/getting_started/intro_tutorials/05_add_columns.html"
   ]
  },
  {
   "cell_type": "markdown",
   "metadata": {},
   "source": [
    "Daarnaast is het ook handig om kolommen te kunnen verwijderen. Dit kan met de methode `.drop()`. "
   ]
  },
  {
   "cell_type": "code",
   "execution_count": null,
   "metadata": {},
   "outputs": [],
   "source": [
    "#Een voorbeeld:\n",
    "df = pd.read_csv('../databronnen/vgsales.csv')\n",
    "df.drop('Other_Sales', axis=1)"
   ]
  },
  {
   "cell_type": "markdown",
   "metadata": {},
   "source": [
    "Deze bewerking verandert het dataframe df zelf niet, er wordt een dataframe teruggegeven zonder de kolom 'Other_Sales'. Als je het dataframe df zelf wilt veranderen, moet je de parameter `inplace=True` meegeven. Merk op dat we ook de parameter `axis = 1` meegegeven hebben. Deze parameter geeft aan dat we een kolom willen verwijderen. Als je een rij wilt verwijderen, moet je `axis = 0` meegeven. Deze 'axis' parameter heb je al gebruikt bij numpy, en zul je ook nog vaker tegenkomen in pandas, bijvoorbeeld bij het berekenen van statistieken per kolom of per rij."
   ]
  },
  {
   "cell_type": "markdown",
   "metadata": {},
   "source": [
    "### Data opdracht 2.4\n",
    "1. Creeër een nieuwe kolom bij de vgsales dataset genaamd Total_Sales. De waarde in deze kolom is de som van NA_Sales, EU_Sales, JP_Sales, Other_Sales. Controleer of de waarden in deze kolom gelijk zijn aan Global_Sales.\n",
    "2. Drop de kolom Global_Sales"
   ]
  },
  {
   "cell_type": "code",
   "execution_count": null,
   "metadata": {},
   "outputs": [],
   "source": [
    "vgsales[\"Total_Sales\"] = vgsales[\"NA_Sales\"] + vgsales[\"EU_Sales\"] + vgsales[\"JP_Sales\"] + vgsales [\"Other_Sales\"]\n",
    "vgsales[\"Total_Sales\"] == vgsales[\"Global_Sales\"]\n",
    "\n"
   ]
  },
  {
   "cell_type": "code",
   "execution_count": null,
   "metadata": {},
   "outputs": [],
   "source": [
    "vgsales.head(2)"
   ]
  },
  {
   "cell_type": "code",
   "execution_count": null,
   "metadata": {},
   "outputs": [],
   "source": [
    "(vgsales[\"Total_Sales\"] == vgsales[\"Global_Sales\"]).sum() / len(vgsales)"
   ]
  },
  {
   "cell_type": "code",
   "execution_count": null,
   "metadata": {},
   "outputs": [],
   "source": [
    "vgsales2 = vgsales.drop(\"Global_Sales\", axis=1)\n",
    "vgsales2.columns"
   ]
  },
  {
   "cell_type": "code",
   "execution_count": null,
   "metadata": {},
   "outputs": [],
   "source": [
    "(vgsales[\"Total_Sales\"] == vgsales[\"NA_Sales\"] + vgsales[\"EU_Sales\"] + vgsales[\"JP_Sales\"] + vgsales [\"Other_Sales\"]).sum() / len(vgsales)\n"
   ]
  },
  {
   "cell_type": "markdown",
   "metadata": {},
   "source": [
    "### Beschrijvende statistiek\n",
    "Net zoals in numpy kun je ook van een kolom in een pandas dataframe verschillende statistieken berekenen. Bekijk daarvoor de eerste voorbeelden van deze tutorial: https://pandas.pydata.org/docs/getting_started/intro_tutorials/06_calculate_statistics.html\n",
    "\n",
    "De voorbeelden onder **Aggregating statistics grouped by category** bekijken we in de volgende les."
   ]
  },
  {
   "cell_type": "markdown",
   "metadata": {},
   "source": [
    "### Data opdracht 2.5\n"
   ]
  },
  {
   "cell_type": "markdown",
   "metadata": {},
   "source": [
    "1. Lees blokAcijfers.txt in als pandas dataframe.\n",
    "2. Verander de kolomnamen naar: ['vak1', 'vak2', 'vak3']\n",
    "3. Bereken het gemiddelde, het minimum en het maximum cijfer van ieder vak.\n",
    "4. Voeg een nieuwe kolom toe aan het dataframe met het gemiddelde cijfer per student."
   ]
  },
  {
   "cell_type": "code",
   "execution_count": null,
   "metadata": {},
   "outputs": [],
   "source": [
    "cijfers = pd.read_csv(\"../databronnen/blokAcijfers.csv\")\n",
    "cijfers.mean(), cijfers.min(axis=0), cijfers.max(axis=0)"
   ]
  },
  {
   "cell_type": "code",
   "execution_count": null,
   "metadata": {},
   "outputs": [],
   "source": [
    "cijfers = pd.read_table(\"../databronnen/blokAcijfers.txt\", header=None)\n",
    "cijfers.columns = [\"vak1\", \"vak2\", \"vak3\"]\n",
    "cijfers[\"gemiddeld\"] = cijfers.mean(axis=1)\n",
    "cijfers"
   ]
  },
  {
   "cell_type": "markdown",
   "metadata": {},
   "source": [
    "## Data types\n",
    "\n",
    "In een numpy array hebben we enkel gewerkt met numerieke datatypes, in een pandas dataframe kun je ook andere datatypes opslaan. Hierboven heb je al gezien dat je met `df.dtypes` kunt bekijken wat de types van de objecten zijn, vanuit een python perspectief. \n",
    "\n",
    "Ook vanuit de statistiek onderscheiden we verschillende typen variabelen, namelijk *kwalitatieve* en *kwantitatieve* variabelen. Kwalitatieve variabelen zijn niet uit te drukken in getallen, maar zijn categorisch. Denk aan *geslacht*, *plaats* of *diersoort*. In een pandas dataframe worden deze categorische waarden meestal weergegeven met een *string*, wat al dtype Object heeft. Ook is het mogelijk om iedere categorie een getal te geven, bijvoorbeeld `man = 0`, `vrouw = 1`. Dan kun je dit met *integers* in je dataframe aangeven, maar deze cijfers hebben dan op zichzelf geen betekenis.\n",
    "\n",
    "Kwantitatieve waarden zijn numeriek. Hierin onderscheiden we 2 types, namelijk discrete en continue variabelen. Discrete variabelen kunnen alleen gehele waardes aannemen, denk aan het aantal kinderen dat iemand heeft of het aantal studenten in de klas. In python is dit vaak een *int*. Continue variabelen kunnen 'alle' waarden aannemen, denk aan *lengte* of *gewicht*. In python is dit meestal een *float*. \n",
    "\n",
    "In de statistiek worden variabelen ook vaak opgedeeld in meetniveaus. Daarbij worden 4 soorten onderscheiden: nominaal, ordinaal, interval en ratio. Lees deze bron over de verschillende meetniveaus: https://blog.bijleshuis.be/statistiek-variabelen-opdelen. \n",
    "\n",
    "Het kennen van deze type variabelen helpt je om te bepalen welke statistieken je uit kunt rekenen of welke visualisaties je kunt maken. Later ga je zien dat dit ook van belang is om te bepalen welke machine learning modellen geschikt zijn voor je data en welke datapreparatie stappen er nodig zijn."
   ]
  },
  {
   "cell_type": "markdown",
   "metadata": {},
   "source": [
    "### Data opdracht 2.6\n",
    "1. Bepaal voor alle kolommen in de vgsales dataset of deze kwalitatieve of kwantitatieve variabele bevat.\n",
    "2. Bepaal van de kwalitatieve variabelen of ze nominaal of ordinaal zijn. Bepaal van de kwantitatieve variabelen of ze continu of discreet zijn.\n",
    "3. Bekijk de dtypes van de kolommen. Komt dit overeen met wat je zou verwachten?\n",
    "4. Bepaal per kolom welke centrummaten je zou kunnen berekenen, bereken deze en beargumenteer of dit een zinvol inzicht heeft gegeven.\n"
   ]
  },
  {
   "cell_type": "code",
   "execution_count": null,
   "metadata": {},
   "outputs": [],
   "source": [
    "print(vgsales.dtypes)\n",
    "vgsales.head()\n"
   ]
  },
  {
   "cell_type": "markdown",
   "metadata": {},
   "source": [
    "* Rank: kwalitatief, nominaal\n",
    "* Name: kwalitatief, nominaal\n",
    "* Platform: kwalitatief, nominaal\n",
    "* Year: kwantitatief, discreet, interval\n",
    "* Genre: kwalitatief, nominaal\n",
    "* Publisher: kwalitatief, nominaal\n",
    "* Alle type Sales: kwantitatief, continu, ratio"
   ]
  },
  {
   "cell_type": "code",
   "execution_count": null,
   "metadata": {},
   "outputs": [],
   "source": [
    "for col in ['Name', 'Platform', 'Genre', 'Publisher']:\n",
    "    print('Modus', col, vgsales[col].mode())"
   ]
  },
  {
   "cell_type": "markdown",
   "metadata": {},
   "source": [
    "NB. Spellen zitten er soms vaker in! (Per console een datapunt.)"
   ]
  },
  {
   "cell_type": "code",
   "execution_count": null,
   "metadata": {},
   "outputs": [],
   "source": [
    "vgsales[['Year', 'EU_Sales']].mean(), vgsales[['Year', 'EU_Sales']].median(), vgsales[['Year', 'EU_Sales']].mode()"
   ]
  },
  {
   "cell_type": "markdown",
   "metadata": {},
   "source": [
    "## Visualisaties en distributies\n",
    "Er zijn verschillende visualisaties die veel gebruikt worden in de data-exploratie fase. Lees deze blog over verschillende veelgebruikte grafieken: https://blog.bijleshuis.be/grafieken-maken-soorten-grafieken\n",
    "\n",
    "Lees tot het einde, het stuk over het uitleggen van je grafiek is erg belangrijk!\n",
    "\n",
    "In dit blog wordt verwezen naar verschillende software om grafieken te maken, maar wij doen dit natuurlijk in python. Voor het maken van veelvoorkomende grafieken kunnen we uit de voeten met de plotfunctionaliteit van pandas. Wil je iets uitgebreiders doen, dan zul je gebruik moeten maken van andere plotting libraries. \n",
    "\n",
    "De meeste plotting libraries maken gebruik van `matplotlib` en het is heel handig hier wat van te weten (https://matplotlib.org/stable/). Daarnaast wordt `seaborn` vaak gebruikt omdat je met weinig code toch best mooie visualisaties kan maken (https://seaborn.pydata.org/). Het is handig de basis van deze packages te kennen, maar ook LLM's zijn erg goed in het genereren van code als je de visualisatie die je wilt hebben beschrijft. Je hoeft dus zeker niet alle functionaliteit uit die plotting libraries te kennen. \n",
    "\n",
    "Laten we eerst maar eens kijken wat we kunnen met de plotfunctionaliteit van pandas. Om dit te illustreren maken we gebruik van de *Palmer Penguins dataset*. Deze dataset bevat kenmerken van drie verschillende pinguinsoorten die leven in Antarctica. De kolommen in deze dataset:\n",
    "- species: De soort pinguïn (Adelie, Chinstrap of Gentoo)\n",
    "- island: Het eiland waar de pinguïn is waargenomen (Biscoe, Dream of Torgersen)\n",
    "- bill_length_mm: De lengte van de snavel van de pinguïn in millimeters, gemeten van de punt tot waar de snavel het schedel raakt\n",
    "- bill_depth_mm: De hoogte van de snavel in millimeters\n",
    "- flipper_length_mm: De lengte van de vleugel van de pinguïn in millimeters\n",
    "- body_mass_g: De massa van het lichaam van de pinguïn in gram\n",
    "- sex: Het geslacht van de pinguïn (mannelijk of vrouwelijk)\n",
    "\n"
   ]
  },
  {
   "cell_type": "markdown",
   "metadata": {},
   "source": [
    "Voordat we visualisaties gaan maken, lezen we de dataset in en bekijken we de belangrijkste statistieken. De python library *seaborn* kan gebruikt worden voor visualisaties, maar deze bevat ook enkele datasets. We gebruiken deze library dan ook om de dataset in te laden. De functie `sns.load_dataset()` geeft ons de dataset in de vorm van een pandas dataframe."
   ]
  },
  {
   "cell_type": "code",
   "execution_count": null,
   "metadata": {},
   "outputs": [],
   "source": [
    "#importeer libraries voor visualisatie\n",
    "import seaborn as sns\n",
    "import matplotlib.pyplot as plt"
   ]
  },
  {
   "cell_type": "code",
   "execution_count": null,
   "metadata": {},
   "outputs": [],
   "source": [
    "pinguins_df = sns.load_dataset(\"penguins\")\n",
    "pinguins_df.describe()"
   ]
  },
  {
   "cell_type": "markdown",
   "metadata": {},
   "source": [
    "### Visualisaties voor univariate exploratie \n",
    "Eerst gaan we kijken naar een paar grafieken die je kunt gebruiken om de verdeling van 1 enkele variabel te onderzoeken. Voor numerieke waarden wordt de boxplot en het histogram veel gebruikt. "
   ]
  },
  {
   "cell_type": "code",
   "execution_count": null,
   "metadata": {},
   "outputs": [],
   "source": [
    "#voorbeeld boxplot met plot-functionaliteit van pandas\n",
    "pinguins_df.plot.box(column=['flipper_length_mm'])"
   ]
  },
  {
   "cell_type": "markdown",
   "metadata": {},
   "source": [
    "In deze boxplot zien we dat de alle pinquins een flipperlengte hebben tussen de 172 en 231 mm. De meeste pinquins hebben een flipperlengte tussen de 190 en de de 213 mm. Dit hadden we natuurlijk ook al uit de beschrijvende statistieken hierboven af kunnen lezen. Wat wel snel te zien is in deze boxplot, is dat er geen *outliers* zijn.\n",
    "\n",
    "Om echt inzicht in de verdeling van de flipperlengte te krijgen is een histogram relevanter."
   ]
  },
  {
   "cell_type": "code",
   "execution_count": null,
   "metadata": {},
   "outputs": [],
   "source": [
    "# voorbeeld histogram met plot-functionaliteit van pandas\n",
    "pinguins_df.plot.hist(column=['flipper_length_mm'], bins=20)"
   ]
  },
  {
   "cell_type": "markdown",
   "metadata": {},
   "source": [
    "Hier valt meteen op dat er 2 of misschien wel 3 pieken te zien zijn. Dit is in deze dataset logisch, omdat deze gegevens bevat van 3 verschillende pinguinsoorten. Waarschijnlijk is bij iedere soort de lengte van de flipper anders verdeeld. Soms weet je vantevoren niet dat je met meerdere soorten te maken hebt en kan het maken van een histogram helpen om dat te gaan onderzoeken."
   ]
  },
  {
   "cell_type": "markdown",
   "metadata": {},
   "source": [
    "### Visualisatie van een categorische variabele\n",
    "Als je een categorische variabelen wilt weergeven, heb je altijd óók een numerieke waarde nodig om weer te geven. Vaak is dit het aantal observaties per categorie of per combinatie van categoriën.\n",
    "Zie hieronder een barplot van heet aantal pinguins per soort."
   ]
  },
  {
   "cell_type": "code",
   "execution_count": null,
   "metadata": {},
   "outputs": [],
   "source": [
    "pinguins_df['species'].hist()"
   ]
  },
  {
   "cell_type": "code",
   "execution_count": null,
   "metadata": {},
   "outputs": [],
   "source": [
    "#barchart met aantal observaties per soort met plot-functionaliteit van pandas\n",
    "pinguins_df['species'].value_counts().plot(kind='bar', stacked=True)"
   ]
  },
  {
   "cell_type": "markdown",
   "metadata": {},
   "source": [
    "We zien dat er meer Adelie-pinguïns zijn dan Gentoo-pinguïns in deze dataset. De Chinstrap pinguin komt duidelijk het minste voor. We kunnen geen conclusies trekken over het aantal pinguins van deze soorten op antarctica, want we weten niet hoe de data verzameld is."
   ]
  },
  {
   "cell_type": "markdown",
   "metadata": {},
   "source": [
    "### Visualisaties voor bivariate exploratie\n",
    "Hierboven hebben we 1 variabele gevisualiseerd, maar we kwamen er meteen al achter dat het veel interessanter is om 2 variabelen met elkaar te vergelijken. Bijvoorbeeld de soort en de flipperlengte. Hier hebben we te maken met een **nominale** en een **continue** variabele. We kunnen dan een boxplot of een histogram per categorie tonen."
   ]
  },
  {
   "cell_type": "markdown",
   "metadata": {},
   "source": [
    "#### Een numerieke en een categorische variabele"
   ]
  },
  {
   "cell_type": "code",
   "execution_count": null,
   "metadata": {},
   "outputs": [],
   "source": [
    "#toon boxplot van de flipperlengte per soort pinguin\n",
    "pinguins_df.plot.box(column=['flipper_length_mm'], by='species')"
   ]
  },
  {
   "cell_type": "markdown",
   "metadata": {},
   "source": [
    "We zien hier direct dat de Gentoo-pinguin veel grotere flippers heeft dan de andere twee soorten. Laten we dit nu ook in een histogram bekijken."
   ]
  },
  {
   "cell_type": "code",
   "execution_count": null,
   "metadata": {},
   "outputs": [],
   "source": [
    "#histogram van de flipperlengte per soort pinguin met plot-functionaliteit van pandas\n",
    "pinguins_df.plot.hist(column=['flipper_length_mm'], by='species', bins=20, figsize=(5, 10))"
   ]
  },
  {
   "cell_type": "markdown",
   "metadata": {},
   "source": [
    "De manier waarop dit geplot wordt maakt het niet erg makkelijk om de verschillende soorten te vergelijken. We maken gebruik van seaborn om dit te verbeteren. Met matplotlib voegen we vervolgens titels toe aan de grafiek en de assen."
   ]
  },
  {
   "cell_type": "code",
   "execution_count": null,
   "metadata": {},
   "outputs": [],
   "source": [
    "# Histogram van flipperlengte per soort pinguin met seaborn\n",
    "sns.histplot(data=pinguins_df, x=\"flipper_length_mm\", hue=\"species\", \n",
    "             bins=15, kde=True, element=\"step\", common_norm=False)\n",
    "plt.title(\"Histogram van flipperlengte per pinguïnsoort\")\n",
    "plt.xlabel(\"Flipperlengte (mm)\")\n",
    "plt.ylabel(\"Aantal pinguïns\")\n"
   ]
  },
  {
   "cell_type": "markdown",
   "metadata": {},
   "source": [
    "Hier zien we direct dat de gemiddelde flipperlengte van de Gentoo veel groter is dan die van de andere 2 omdat de piek veel verder naar rechts ligt. De hoogte van de pieken per soort kun je niet goed met elkaar vergelijken, deze hangen af van het aantal observaties en we hebben nog niet bekeken hoe vaak iedere soort voorkomt in de dataset.m"
   ]
  },
  {
   "cell_type": "markdown",
   "metadata": {},
   "source": [
    "#### Vergelijken van 2 numerieke variabelen\n",
    "Om de samenhang van 2 numerieke waarden te bekijken kun je gebruik maken van een scatterplot. Hieronder zien we een scatterplot van de snavellengte en de snavelhoogte van pinguins."
   ]
  },
  {
   "cell_type": "code",
   "execution_count": null,
   "metadata": {},
   "outputs": [],
   "source": [
    "#scatterplot van snavellengte en snavelhoogte met plot-functionaliteit van pandas\n",
    "pinguins_df.plot.scatter(x='bill_length_mm', y='bill_depth_mm')\n",
    "plt.xlabel(\"Snavellengte (mm)\")\n",
    "plt.ylabel(\"Snavelbreedte (mm)\")\n",
    "plt.title(\"Snavellengte vs. Snavelbreedte van pinguïns\")"
   ]
  },
  {
   "cell_type": "markdown",
   "metadata": {},
   "source": [
    "We zien hier 2 of 3 verschillende groepen bij elkaar liggen, dit zullen opnieuw de pinguinsoorten zijn. Laten we deze plot opnieuw per soort maken. Hier gebruiken we weer seaborn voor."
   ]
  },
  {
   "cell_type": "code",
   "execution_count": null,
   "metadata": {},
   "outputs": [],
   "source": [
    "#scatterplot van snavellengte en snavelhoogte per soort met seaborn\n",
    "sns.scatterplot(data=pinguins_df, x=\"bill_length_mm\", y=\"bill_depth_mm\", hue=\"species\")\n",
    "plt.xlabel('snavellengte (mm)')\n",
    "plt.ylabel('snaveldiepte (mm)')\n",
    "plt.title('Snavel lengte en diepte per soort pinguïn')"
   ]
  },
  {
   "cell_type": "markdown",
   "metadata": {},
   "source": [
    "We zien inderdaad dat de observaties van de verschillende soorten pinguins bij elkaar liggen. Ook zien we dat er grofweg gezegd kan worden dat als de lengte van de snavel groter is, de diepte dat ook is. Dit verband is bij de Gentoo duidelijker te zien dan bij de Adeliepinguin. Dat is goed te zien in onderstaande visualisaties."
   ]
  },
  {
   "cell_type": "code",
   "execution_count": null,
   "metadata": {},
   "outputs": [],
   "source": [
    "#scatterplot van de snavellengte en snavelhoogte van de Adeliepinguïn\n",
    "adelie = pinguins_df[pinguins_df['species'] == 'Adelie']\n",
    "adelie.plot.scatter(x='bill_depth_mm', y='bill_length_mm')\n",
    "plt.title(\"Snavellengte vs. snavelhoogte van de Adeliepinguïn\")\n",
    "plt.xlabel(\"Snavellengte (mm)\")\n",
    "plt.ylabel(\"Snavel hoogte (mm)\")"
   ]
  },
  {
   "cell_type": "code",
   "execution_count": null,
   "metadata": {},
   "outputs": [],
   "source": [
    "gentoo = pinguins_df[pinguins_df['species'] == 'Gentoo']\n",
    "gentoo.plot.scatter(x='bill_depth_mm', y='bill_length_mm')\n",
    "plt.title(\"Snavellengte vs. snavelhoogte van de Gentoo-pinguïn\")\n",
    "plt.xlabel(\"Snavellengte (mm)\")\n",
    "plt.ylabel(\"Snavel hoogte (mm)\")"
   ]
  },
  {
   "cell_type": "markdown",
   "metadata": {},
   "source": [
    "In bovenste 2 visualisaties zie je dat bij de Gentoopinguin er een duidelijk verband is tussen de snavellengte en de snavelhoogte. Bij de Adeliepinguïn is dat minder duidelijk, de punten liggen meer verspreid. In een latere les gaan we dit soort verbanden verder onderzoeken."
   ]
  },
  {
   "cell_type": "markdown",
   "metadata": {},
   "source": [
    "### Afhankelijke en onafhankelijke variabelen\n",
    "Bij het maken van zo'n  scatterplot is het altijd belangrijk om je af te vragen hoe de variabelen van elkaar afhangen. Veroorzaakt de verandering in de ene variabele een verandering in de andere variabele? Dan noemen we de veroorzaker de **onafhankelijke** variabele en de variabele die meeverandert de **afhankelijke** variabele. De onafhankelijke variable plot je op de x-as en de afhankelijke op de y-as. Bij snavellengte en snavelhoogte is dat misschien wat moeilijk te bepalen, maar als je lengte en gewicht van een pinguin (of een mens) gaat plotten, dan is het logischer dat het gewicht van de lengte afhangt, dan andersom. De onafhankelijke variabele lengte plot je dus op de x-as de afhankelijke variabele gewicht plot je op de y-as.\n",
    "\n"
   ]
  },
  {
   "cell_type": "markdown",
   "metadata": {},
   "source": [
    "### Visualiseren van 2 categorische variabelen\n",
    "\n",
    "Als je 2 categorische variabelen met elkaar wilt vergelijken, heb je opnieuw óók een numerieke waarde nodig om weer te geven. Vaak is dit het aantal observaties per categorie of per combinatie van categoriën. Hieronder een voorbeel van een barchart, die weergeeft hoe vaak elke soort pinguïn voorkomt in de dataset, uitgesplitst per geslacht."
   ]
  },
  {
   "cell_type": "code",
   "execution_count": null,
   "metadata": {},
   "outputs": [],
   "source": [
    "# Barchart die aantal observaties per soort en geslacht toont, met seaborn\n",
    "sns.countplot(data=pinguins_df, x='species', hue='sex')\n",
    "plt.title('Aantal pinguïns per soort en geslacht')\n",
    "plt.xlabel('Soort')\n",
    "plt.ylabel('Aantal')\n",
    "plt.legend(title='Geslacht')"
   ]
  },
  {
   "cell_type": "markdown",
   "metadata": {},
   "source": [
    "Het ziet ernaar uit dat de onderzoekers hun best hebben gedaan net zoveel data van mannetjes- als van vrouwtjespinguins te verzamelen. Waarom dit afwijkt bij de Gentoopinguin is niet duidelijk."
   ]
  },
  {
   "cell_type": "markdown",
   "metadata": {},
   "source": [
    "Een ander veelvoorkomende grafiek is een *line chart*, deze gebruik je om een tijdreeks te visualiseren. In deze dataset komt dit niet voor, maar hier zie je een voorbeeld van hoe je dat met seaborn zou kunnen doen: https://seaborn.pydata.org/generated/seaborn.lineplot.html"
   ]
  },
  {
   "cell_type": "markdown",
   "metadata": {},
   "source": [
    "Je hebt nu een aantal voorbeelden van visualisaties gezien, gemaakt met verschillende libraries. Maak onderstaande opdracht om hier zelf mee te oefenen. "
   ]
  },
  {
   "cell_type": "markdown",
   "metadata": {},
   "source": [
    "### Data opdracht 2.7"
   ]
  },
  {
   "cell_type": "markdown",
   "metadata": {},
   "source": [
    "Maak visualisaties om de volgende inzichten te geven. Je mag een LLM gebruiken om de code voor de visualisatie te genereren. Het gaat erom dat je zelf nadenkt over wat een goede visualisatie zou zijn en als je bedacht hebt welke visualisatie je wilt maken en wat er op de assen moet staan, dan formuleer je een opdracht voor de LLM om de code te genereren. Neem de gegenereerde code goed door, zodat je kunt controleren wat er gebeurt en er ook meteen iets van leert. Voeg waar nodig comments toe voor je eigen begrip. Benoem ook telkens wat er in de visualisatie te zien is.\n",
    "1. Maak een visualisatie om te laten zien of er een verschil is in gewicht bij mannetjes en vrouwtjes Gentoo pinguins.\n",
    "2. Onderzoek met een visualisatie of er een verband is tussen flipperlengte en gewicht bij de vrouwtjes van de Adeliepiguin.\n",
    "3. Maak een visualisatie om een verband te laten zien tussen de soort pinguin en de eilanden waarop ze voorkomen."
   ]
  },
  {
   "cell_type": "code",
   "execution_count": null,
   "metadata": {},
   "outputs": [],
   "source": [
    "pinguins_df.info()"
   ]
  },
  {
   "cell_type": "code",
   "execution_count": null,
   "metadata": {},
   "outputs": [],
   "source": [
    "pinguins_df[pinguins_df['species'] == 'Gentoo'].plot.box(column=['body_mass_g'], by='sex')"
   ]
  },
  {
   "cell_type": "code",
   "execution_count": null,
   "metadata": {},
   "outputs": [],
   "source": [
    "pinguins_df[(pinguins_df['species'] == 'Adelie') & (pinguins_df['sex'] == 'Female')].plot.scatter(x='flipper_length_mm', y='body_mass_g')\n"
   ]
  },
  {
   "cell_type": "code",
   "execution_count": null,
   "metadata": {},
   "outputs": [],
   "source": [
    "pinguins_df[(pinguins_df['species'] == 'Adelie') & (pinguins_df['sex'] == 'Female')][['flipper_length_mm', 'body_mass_g']].corr()"
   ]
  },
  {
   "cell_type": "code",
   "execution_count": null,
   "metadata": {},
   "outputs": [],
   "source": [
    "# Barchart die aantal observaties per soort en geslacht toont, met seaborn\n",
    "sns.countplot(data=pinguins_df, x='species', hue='island')\n",
    "plt.title('Aantal pinguïns per soort en afkomst')\n",
    "plt.xlabel('Soort')\n",
    "plt.ylabel('Aantal')\n",
    "plt.legend(title='Afkomst')"
   ]
  },
  {
   "cell_type": "markdown",
   "metadata": {},
   "source": [
    "## Data opdracht 2.8 - voorbereiding op PI \n",
    "Ga naar: https://insideairbnb.com/get-the-data/\n",
    "Hier kun je van verschillende steden de data van airbnb downloaden van het jaar 2024. Kies een stad die je interessant vindt en download de dataset listings.csv. Exploreer deze data. Denk aan:\n",
    "- Welke kolommen zijn aanwezig?\n",
    "- Wat is het datatype van deze kolommen? Welke meetniveaus horen daarbij?\n",
    "- Zijn er null-waardes?\n",
    "- Kun je interessante statistieken weergeven?\n",
    "\n",
    "Bedenk een reis die je naar deze stad zou willen maken. Hoeveel nachten zou je weg willen? In welke wijk wil je verblijven? Hoeveel mag het kosten? Wat voor andere eisen heb je aan de kamer die je wilt huren? Maak telkens een nieuwe subset van de dataset om uit te zoeken of er plekken zijn die aan je eisen voldoen. \n",
    "\n",
    "Exploreer nu opnieuw de hele dataset met behulp van visualisaties. Geef de verdelingen van variabelen en de relatie tussen variabelen weer. Licht steeds duidelijk toe wat je toont en benoem opvallende zaken. \n",
    "\n",
    "\n",
    "\n"
   ]
  },
  {
   "cell_type": "code",
   "execution_count": null,
   "metadata": {},
   "outputs": [],
   "source": []
  }
 ],
 "metadata": {
  "kernelspec": {
   "display_name": "ai-s3",
   "language": "python",
   "name": "python3"
  },
  "language_info": {
   "codemirror_mode": {
    "name": "ipython",
    "version": 3
   },
   "file_extension": ".py",
   "mimetype": "text/x-python",
   "name": "python",
   "nbconvert_exporter": "python",
   "pygments_lexer": "ipython3",
   "version": "3.13.5"
  }
 },
 "nbformat": 4,
 "nbformat_minor": 4
}
