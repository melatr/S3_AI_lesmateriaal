{
 "cells": [
  {
   "cell_type": "code",
   "execution_count": null,
   "id": "89fbff33",
   "metadata": {},
   "outputs": [
    {
     "name": "stdout",
     "output_type": "stream",
     "text": [
      "Prediction: {\"predictions\": [209479.57, 231947.15666666668]}\n"
     ]
    }
   ],
   "source": [
    "import requests\n",
    "import json\n",
    "import numpy as np\n",
    "\n",
    "# Replace with your actual endpoint URL and key\n",
    "endpoint_url = \"https://aimes-housing-endpoint.westeurope.inference.ml.azure.com/score\"\n",
    "key = \"\"\n",
    "\n",
    "# Sample input for Ames Housing model\n",
    "\n",
    "sample_input = [\n",
    "    {\n",
    "        \"LotFrontage\": 65.0,\n",
    "        \"GrLivArea\": 1500,\n",
    "        \"GarageArea\": 480,\n",
    "        \"Neighborhood\": \"NAmes\",\n",
    "        \"HouseStyle\": \"1Story\",\n",
    "        \"MasVnrType\": \"BrkFace\",\n",
    "        \"ExterQual\": \"Gd\",\n",
    "        \"OverallQual\": 7,\n",
    "        \"YearBuilt\": 2005,\n",
    "        \"YrSold\": 2010\n",
    "    },\n",
    "    {    \n",
    "        \"LotFrontage\": np.nan,\n",
    "        \"GrLivArea\": 1500,\n",
    "        \"GarageArea\": 500,\n",
    "        \"Neighborhood\": \"Amsterdam\",\n",
    "        \"HouseStyle\": \"1Story\",\n",
    "        \"MasVnrType\": \"BrkFace\",\n",
    "        \"ExterQual\": np.nan,\n",
    "        \"OverallQual\": 8,\n",
    "        \"YearBuilt\": 2007,\n",
    "        \"YrSold\": 2010\n",
    "    }\n",
    "]\n",
    "\n",
    "\n",
    "headers = {\n",
    "    \"Content-Type\": \"application/json\",\n",
    "    \"Authorization\": f\"Bearer {key}\"\n",
    "}\n",
    "\n",
    "response = requests.post(endpoint_url, headers=headers, data=json.dumps(sample_input))\n",
    "\n",
    "print(\"Prediction:\", response.json())"
   ]
  }
 ],
 "metadata": {
  "kernelspec": {
   "display_name": "ai-s3",
   "language": "python",
   "name": "python3"
  },
  "language_info": {
   "codemirror_mode": {
    "name": "ipython",
    "version": 3
   },
   "file_extension": ".py",
   "mimetype": "text/x-python",
   "name": "python",
   "nbconvert_exporter": "python",
   "pygments_lexer": "ipython3",
   "version": "3.13.5"
  }
 },
 "nbformat": 4,
 "nbformat_minor": 5
}
