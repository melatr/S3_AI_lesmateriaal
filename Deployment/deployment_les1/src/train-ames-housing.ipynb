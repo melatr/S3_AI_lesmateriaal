{
  "cells": [
    {
      "cell_type": "code",
      "execution_count": null,
      "metadata": {
        "gather": {
          "logged": 1755092055058
        }
      },
      "outputs": [],
      "source": [
        "import pandas as pd\n",
        "import numpy as np\n",
        "from sklearn.ensemble import RandomForestRegressor\n",
        "from sklearn.model_selection import train_test_split\n",
        "from sklearn.metrics import r2_score, mean_absolute_error\n",
        "import pickle\n",
        "import json"
      ]
    },
    {
      "cell_type": "code",
      "execution_count": null,
      "metadata": {
        "gather": {
          "logged": 1755092055203
        }
      },
      "outputs": [],
      "source": [
        "# 1. Load dataset\n",
        "df = pd.read_csv(\"AmesHousing.csv\")\n",
        "df.head()"
      ]
    },
    {
      "cell_type": "code",
      "execution_count": null,
      "metadata": {
        "gather": {
          "logged": 1755092055289
        }
      },
      "outputs": [],
      "source": [
        "# 2. Select features and target\n",
        "features = [\n",
        "   'LotFrontage', 'GrLivArea', 'GarageArea',\n",
        "   'Neighborhood', 'HouseStyle', 'ExterQual', 'MasVnrType',\n",
        "   'YearBuilt', 'YrSold', 'OverallQual'\n",
        "]\n",
        "target = 'SalePrice'\n",
        "\n",
        "df = df.dropna(subset=[target])  # remove rows with missing target\n",
        "X = df[features]\n",
        "y = df[target]"
      ]
    },
    {
      "cell_type": "code",
      "execution_count": null,
      "metadata": {
        "gather": {
          "logged": 1755092055354
        }
      },
      "outputs": [],
      "source": [
        "# 3. Train-test split (before preprocessing to avoid leakage)\n",
        "X_train, X_test, y_train, y_test = train_test_split(\n",
        "    X, y, test_size=0.2, random_state=123\n",
        ")"
      ]
    },
    {
      "cell_type": "code",
      "execution_count": null,
      "metadata": {},
      "outputs": [],
      "source": [
        "df[features].info()"
      ]
    },
    {
      "cell_type": "code",
      "execution_count": null,
      "metadata": {
        "gather": {
          "logged": 1755092055410
        }
      },
      "outputs": [],
      "source": [
        "# 4. Determine transformation parameters from training set\n",
        "lotfrontage_mean = X_train['LotFrontage'].mean()\n",
        "masvnrtype_mode = X_train['MasVnrType'].mode()[0]\n",
        "categorical_cols = ['Neighborhood', 'HouseStyle', 'MasVnrType']\n",
        "exterqual_mapping = {'Po': 1, 'Fa': 2, 'TA': 3, 'Gd': 4, 'Ex': 5}\n",
        "exterqual_na = 'TA'"
      ]
    },
    {
      "cell_type": "code",
      "execution_count": null,
      "metadata": {
        "gather": {
          "logged": 1755092055470
        }
      },
      "outputs": [],
      "source": [
        "# 5. Preprocess training set\n",
        "X_train = X_train.copy()\n",
        "X_train['HouseAge'] = X_train['YrSold'] - X_train['YearBuilt']\n",
        "X_train['OverallQual'] = X_train['OverallQual'].clip(lower=1, upper=10)\n",
        "X_train['LotFrontage'] = X_train['LotFrontage'].fillna(lotfrontage_mean)\n",
        "X_train['MasVnrType'] = X_train['MasVnrType'].fillna(masvnrtype_mode)\n",
        "X_train = pd.get_dummies(X_train, columns=categorical_cols)\n",
        "X_train['ExterQual'] = X_train['ExterQual'].map(exterqual_mapping)\n",
        "X_train['ExterQual'] = X_train['ExterQual'].fillna(exterqual_mapping[exterqual_na])\n",
        "\n",
        "# Save the final column order for test set alignment\n",
        "final_columns = X_train.columns.tolist()"
      ]
    },
    {
      "cell_type": "code",
      "execution_count": null,
      "metadata": {
        "gather": {
          "logged": 1755092055521
        }
      },
      "outputs": [],
      "source": [
        "# 6. Preprocess test set using same parameters\n",
        "X_test = X_test.copy()\n",
        "X_test['HouseAge'] = X_test['YrSold'] - X_test['YearBuilt']\n",
        "X_test['OverallQual'] = X_test['OverallQual'].clip(lower=1, upper=10)\n",
        "X_test['LotFrontage'] = X_test['LotFrontage'].fillna(lotfrontage_mean)\n",
        "X_test['MasVnrType'] = X_test['MasVnrType'].fillna(masvnrtype_mode)\n",
        "X_test = pd.get_dummies(X_test, columns=categorical_cols)\n",
        "X_test['ExterQual'] = X_test['ExterQual'].map(exterqual_mapping)\n",
        "X_test['ExterQual'] = X_test['ExterQual'].fillna(exterqual_mapping[exterqual_na])\n",
        "\n",
        "# Align test columns to training columns\n",
        "X_test = X_test.reindex(columns=final_columns, fill_value=0)"
      ]
    },
    {
      "cell_type": "code",
      "execution_count": null,
      "metadata": {
        "gather": {
          "logged": 1755092056254
        }
      },
      "outputs": [],
      "source": [
        "# 7. Train model\n",
        "model = RandomForestRegressor(n_estimators=100, random_state=42)\n",
        "model.fit(X_train, y_train)"
      ]
    },
    {
      "cell_type": "code",
      "execution_count": null,
      "metadata": {
        "gather": {
          "logged": 1755092056321
        }
      },
      "outputs": [],
      "source": [
        "# 8. Evaluate model\n",
        "y_pred = model.predict(X_test)\n",
        "r2 = r2_score(y_test, y_pred)\n",
        "mae = mean_absolute_error(y_test, y_pred)\n",
        "print(f\"R² Score: {r2:.2f}\")\n",
        "print(f\"Mean Absolute Error: ${mae:,.0f}\")"
      ]
    },
    {
      "cell_type": "code",
      "execution_count": null,
      "metadata": {
        "gather": {
          "logged": 1755092056386
        }
      },
      "outputs": [],
      "source": [
        "# 9. Save the model\n",
        "with open(\"model.pkl\", \"wb\") as f:\n",
        "    pickle.dump(model, f)"
      ]
    }
  ],
  "metadata": {
    "kernel_info": {
      "name": "python310-sdkv2"
    },
    "kernelspec": {
      "display_name": "ai-s3",
      "language": "python",
      "name": "python3"
    },
    "language_info": {
      "codemirror_mode": {
        "name": "ipython",
        "version": 3
      },
      "file_extension": ".py",
      "mimetype": "text/x-python",
      "name": "python",
      "nbconvert_exporter": "python",
      "pygments_lexer": "ipython3",
      "version": "3.13.5"
    },
    "microsoft": {
      "host": {
        "AzureML": {
          "notebookHasBeenCompleted": true
        }
      },
      "ms_spell_check": {
        "ms_spell_check_language": "en"
      }
    },
    "nteract": {
      "version": "nteract-front-end@1.0.0"
    }
  },
  "nbformat": 4,
  "nbformat_minor": 2
}
