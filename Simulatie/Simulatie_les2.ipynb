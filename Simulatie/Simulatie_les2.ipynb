{
 "cells": [
  {
   "cell_type": "markdown",
   "id": "4a73e58e",
   "metadata": {},
   "source": [
    "# Simulatie - les 2"
   ]
  },
  {
   "cell_type": "markdown",
   "id": "808c927d",
   "metadata": {},
   "source": [
    "Notebook bij les 2 van de leerlijn simulatie van S3 - AI. \n",
    "\n",
    "© Auteur: Joost Vanstreels"
   ]
  },
  {
   "cell_type": "markdown",
   "id": "209f65a5",
   "metadata": {},
   "source": [
    "**Voorbereiding voor les 2:**\n",
    "- Geen voorbereiding nodig, behalve dat je alle opdrachten uit les 1 afgerond moet hebben."
   ]
  },
  {
   "cell_type": "markdown",
   "id": "fd6cfbf1",
   "metadata": {},
   "source": [
    "## Geavanceerde data analytics\n",
    "Tijdens college 1 hebben we gebruik gemaakt van de simulatieomgeving waarbij in Streamlit de resultaten van een run getoond werden. Jullie hebben gemerkt dat het analyseren van een run omslachtig was en het ook niet eenvoudig was om meerdere runs met elkaar te vergelijken. \n",
    "\n",
    "Tijdens dit college gaan we kijken naar manieren om data te manipuleren om meer informatie te achterhalen en we gaan naar manieren kijken om die informatie te visualiseren."
   ]
  },
  {
   "cell_type": "markdown",
   "id": "85909065",
   "metadata": {},
   "source": [
    "## Data manipuleren\n",
    "Bij data wordt er vaak gesproken over verschillende *niveau's*. Data op het laagste of individuele niveau gaat over de status van alle entiteiten (patiënt en bed) op elk tijdstip. Dat is essentiële informatie voor het runnen van een simulatie, maar dit niveau van data is vaak niet interessant om te analyseren.\n",
    "\n",
    "Door data te manipuleren ontstaat nieuwe data die wél interessant is om te analyseren. Denk aan het filteren (bepaalde informatie verwijderen), groeperen van data (bij-elkaar-horende data combineren) of het uitvoeren van berekeneningen (tellen, gemiddelde, maximum, etc.). Hiermee creëer je een nieuwe niveau van data. Tijdens dit college gaan we stap-voor-stap nieuwe niveau's toevoegen aan de data waarmee nieuwe analyses uitgevoerd kunnen worden.\n",
    "\n",
    "### Definities\n",
    "Voordat we naar de niveau's gaan kijken, zullen we eerst een aantal definities geven van termen die we vaak tegen zullen komen.\n",
    "\n",
    "- **Onderzoeksvraag**\n",
    "Het doel van onderzoek doen met behulp van simulaties is om antwoord te krijgen op een vraag. Vaak is die vraag terug te brengen tot een algemene onderzoeksvraag: welk *scenario* (dus welke samenstelling van resources [a,b,c]) helpt om doelstellingen [x, y, z] te behalen?\n",
    "\n",
    "- **Experiment**\n",
    "Een experiment heeft als doel om de onderzoeksvraag te beantwoorden. Een experiment bestaat uit het simuleren van meerdere scenario's om te bepalen welk scenario het beste is.\n",
    "\n",
    "- **Scenario**\n",
    "Elk scenario dat interessant is, ga je dus simuleren. Bij de ICU casus hebben jullie tijdens college 1 simulaties gedraaid voor verschillende scenario's van de ICU waarin de hoeveelheid bedden telkens verschilde. Het *beste* scenario hebben jullie bepaald door te kijken naar het aantal overlijdens per scenario.  \n",
    "\n",
    "- **Run**\n",
    "Het uitvoeren van één simulatie wordt een run genoemd. Bij de ICU casus hebben jullie voor elk scenario één run uitgevoerd op basis van de historische data. Het heeft geen zin om een meerdere runs uit te voeren voor dat scenario omdat de resultaten hetzelfde zullen zijn. Tijdens college 3 gaan we echter werken met synthetische data. We gaan dan data genereren waarmee gesimuleerd wordt. Stel dat de ligtijd van patiënten gemiddeld 48 uur is met een standaarddeviatie van 12 uur, dan kun je voor een reeks patiënten hun ligtijd bepalen door willekeurige trekkingen te doen uit een normaalverdeling. Je kunt dan meerdere simulaties runnen voor elk scenario want elke reeks synthetische data is uniek vanwege de willekeurige trekkingen. In dat geval heeft het wel zin om meerdere runs uit te voeren voor een scenario. Dit komt uitgebreid terug tijdens colleges 3 en 4.\n",
    "\n",
    "- **Resultaten van runs**\n",
    "Een run levert data op waarmee KPI's berekend kunnen worden. De KPI's van alle runs kunnen onderling vergeleken worden. Met deze data kan de onderzoeksvraag beantwoord worden.  \n",
    "\n",
    "### Verschillende niveau's ICU casus\n",
    "Hieronder worden verschillende stappen geschetst waarin telkens nieuwe informatie wordt gegenereerd. Je zult merken dat elke stap resulteert in minder rijen en/of kolommen data maar in meer informatie!\n",
    "\n",
    "#### Laagste niveau: simulatiedata\n",
    "Deze simulatiedata is het directe resultaat van de simulatie: de simulator heeft voor elk tijdstip de status van alle entiteiten bepaald en vastgelegd. Voor elk tijdstip worden dus alle activiteiten van patiënten en bedden vastgelegd. Deze data is niet interessant om te analyseren: ten eerste zijn er veel tijdstippen waarop er niks gebeurt, die tijdstippen zijn niet interessant en kunnen gefilterd worden. De simulatiedata is gecentreerd op tijdstippen waarop events plaats vinden, maar voor de analyse zijn deze tijdstippen van de events of events van individuele patiënten niet zo relevant. Het gaat juist om de hoeveelheid patiënten in een bepaalde status op bepaalde tijdstippen en de tijd tussen events. Deze informatie kan berekend worden en leidt tot bepaalde *statistieken*.\n",
    "\n",
    "#### Statistieken per entiteit\n",
    "Om tot de statistieken te komen, moet de simulatiedata eerst gemanipuleerd worden. De simulator doet deze manipulatie al voor jullie en dat levert de statistieken per entiteit op. Je kunt de simlulatiedata daarom ook niet downloaden vanaf het Streamlit dashboard.\n",
    "\n",
    "Het ```ICU - Patient_Timing``` bestand bevat de statistieken van alle patiënten. Voor elke unieke patiënt uit de simulatiedata is gekeken naar het tijdstip van bepaalde events en de tijd tussen verschillende events. Deze berekeningen hebben geleid tot een overzicht met statistieken per patiënt. \n",
    "\n",
    "Voor de andere belangrijke entiteit van de ICU, de bedden, zou je vergelijkbare data kunnen verzamelen. Die data is echter niet beschikbaar omdat het minder relevant is om analyses van individuele bedden te maken. In de volgende stap wordt er wel met data over de bedden gewerkt.\n",
    "\n",
    "#### Statistieken van het scenario\n",
    "Elk scenario beschrijft een unieke ICU met een bepaalde instroom, een wachtrij, een aantal bedden en patiënten die naar huis gaan of komen te overlijden. Door de statistieken van alle states van de ICU te beschouwen, kunnen we de statistieken van de ICU van dit scenario bepalen. Het ```ICU - ICU``` bestand is ook gebaseerd op de simulatiedata maar kijkt naar alle entiteiten van de ICU samen. Voor elk tijdstip uit de simulatie is gekeken naar het aantal patiënten in de wachtrij en het aantal patiënten dat behandeld werd, daarnaast is bijgehouden hoeveel mensen er behandeld en overleden waren. Op basis van deze data is ook bepaald hoeveel bedden er vrij en bezet waren. Deze berekeningen hebben geleid tot een overzicht met statistieken per tijdstip van de ICU. \n",
    "\n",
    "Deze statistieken lenen zich goed om meer inzicht te creëren in een complete run van een simulatie. Zo kun je bijvoorbeeld de distributie of het verloop over de tijd van bepaalde statistieken in kaart brengen. Hiermee kun je verschillende runs met elkaar te vergelijken. Het is daarbij van belang om de data dan per run te groeperen.\n",
    "\n",
    "#### Analyse experiment\n",
    "Door de statistieken van de vorige twee stappen te combineren heb je alle informatie van dit experiment verzameld en kun je alle scenario's onderling vergelijken en de onderzoeksvraag beantwoorden."
   ]
  },
  {
   "cell_type": "markdown",
   "id": "5a047c95",
   "metadata": {},
   "source": [
    "## Data visualiseren\n",
    "Zoals eerder gesteld, heeft een experiment als doel om een onderzoeksvraag te beantwoorden. Zo'n onderzoeksvraag kan best *vaag* zijn, daarom zijn er ook nog de KPI's (de *Key Performance Indicators*) die de kwaliteit concreter en kwantificeerbaar kunnen maken. Een experiment bestaat uit verschillende runs van een simulatie en deze runs moeten geanalyseerd worden om de onderzoeksvraag te kunnen beantwoorden en de KPI's inzichtelijk te maken.  Een belangrijke manier om deze analyse uit te voeren, is het maken van visualisaties.\n",
    "\n",
    "De eerste stap bij het maken van een visualisatie is nadenken *wat* het doel is en *welke* informatie je wilt tonen. Wanneer je meer inzicht wilt krijgen in een bepaalde run, kun je informatie tonen over de gebruikte resources van zo'n run en de KPI's van die run. Wanneer je meerdere runs hebt gesimuleerd, wil je die runs misschien onderling vergelijken. Mogelijk zijn er KPI's die verschillen per run en die informatie kan helpen om een keuze te maken tussen welke run *het beste* was. Stap 1 bestaat dus uit het maken van een overzicht van alle relevante parameters en variabelen van de simulatie (bijv. het aantal resources) en de resultaten van de simulatie (bijv. de KPI's).\n",
    "\n",
    "De tweede stap is bedenken *hoe* je die informatie gaat tonen. Bij de colleges over data zijn verschillende visualisaties besproken die allemaal bruikbaar zijn. Dit blog kan je helpen om de juiste visualisatie te kiezen: https://blog.bijleshuis.nl/hoe-maak-je-een-grafiek-en-welke-soort-grafiek-moet-je-gebruiken. "
   ]
  },
  {
   "cell_type": "markdown",
   "id": "ee2d3f26",
   "metadata": {},
   "source": [
    "## Opdrachten ICU\n",
    "We gaan verder met de analyse van simulaties op basis van de historische dataset. Hiervoor moeten een aantal bewerkingen op de data uitgevoerd worden en visualisaties gemaakt worden. Deze visualisaties hoeven **NIET** in Streamlit gemaakt te worden, deze mogen *gewoon* in een notebook runnen.\n",
    "\n",
    "### Deel 1 - Statistieken van entiteiten visualiseren\n",
    "\n",
    "Run eerst een aantal simulaties op basis van het nieuwe yaml bestand ICU_les2.yaml.\n",
    "\n",
    "Het eerste deel gaat over het analyseren van de statistieken van entiteiten zoals patiënten en bedden.\n",
    "\n",
    "**Opdracht 1.1.** Statistieken van patiënten visualiseren\n",
    "\n",
    "Bij de eerste opdracht gaan we de statistieken van de patiënten analyseren. Van elke patiënt weten we hoe lang deze in de wachtrij heeft gestaan, hoe lang deze in bed heeft gelegen en of deze behandeld of overleden is. Deze data is te vinden in ```ICU - Patient_Timing.csv```. Het doel van de eerste opdracht is om een visualisatie te maken die kan helpen om de resultaten van een bepaald scenario (run) te analyseren. \n",
    "\n",
    "Maak visualisaties van de volgende statistieken:\n",
    "- Distributie van de tijd in de wachtrij van alle patiënten  \n",
    "- Distributie van de tijd in bed van alle patiënten  \n",
    "\n",
    "Neem eerst de data van één scenario om de visualisatie te maken.\n",
    "\n",
    "Denk eerst na over de volgende zaken:\n",
    "- Welke data heb je nodig? Welke data is beschikbaar? Welke manipulaties zijn nodig?\n",
    "- Welke informatie wil je tonen? Welke visualisatie past daarbij? Hoe moet je de visualisatie opbouwen qua x-as, y-as, etc.?\n",
    "Daarna mag je aan de slag.\n",
    "\n",
    "Laat dat ontwerp eerst accorderen en ga daarna bouwen. **Tip**: teken het ontwerp uit op papier. Dat is de snelste manier!\n",
    "\n",
    "**Opdracht 1.2.** Scenario's vergelijken\n",
    "\n",
    "Combineer nu de data van alle scenario's en zorg dat in elke visualisatie de scenario's vergeleken kunnen worden.\n",
    " "
   ]
  },
  {
   "cell_type": "markdown",
   "id": "f11c4fa3",
   "metadata": {},
   "source": [
    "### Deel 2 - Statistieken van scenario visualiseren\n",
    "\n",
    "**Opdracht 2.1.** Statistieken van de wachtrij en bedden\n",
    "\n",
    "Bij de tweede opdracht gaan we niet naar individuele patiënten kijken maar naar alle patiënten *samen* in een bepaalde state. We gaan de statistieken van de wachtrij en de bedden van de ICU analyseren en kijken naar de hoeveelheid patiënten die beter naar huis gaan of komen te overlijden. Deze data is te vinden in ```ICU - ICU.csv```.\n",
    "\n",
    "Maak visualisaties van de volgende statistieken:\n",
    "- Distributie van het aantal mensen in de wachtrij  \n",
    "- Distributie van het aantal bezette bedden  \n",
    "- Verloop van het aantal behandelde en overleden patiënten over de tijd \n",
    "\n",
    "Neem eerst de data van één scenario om de visualisatie te maken.\n",
    "\n",
    "Denk eerst na over de volgende zaken:\n",
    "- Welke data heb je nodig? Welke data is beschikbaar? Welke manipulaties zijn nodig?\n",
    "- Welke informatie wil je tonen? Welke visualisatie past daarbij? Hoe moet je de visualisatie opbouwen qua x-as, y-as, etc.?\n",
    "Daarna mag je aan de slag.\n",
    "\n",
    "Laat dat ontwerp eerst accorderen en ga daarna bouwen. **Tip**: teken het ontwerp uit op papier. Dat is de snelste manier!\n",
    "\n",
    "**Opdracht 2.2.** Scenario's vergelijken\n",
    "\n",
    "Combineer nu de data van alle scenario's en zorg dat in elke visualisatie de scenario's vergeleken kunnen worden."
   ]
  },
  {
   "cell_type": "markdown",
   "id": "bf5490db",
   "metadata": {},
   "source": [
    "### Deel 3 - Analyse experiment\n",
    "\n",
    "Bij het derde deel gaan we de stap nemen naar de volgende datalaag en gaan we het gehele experiment analyseren. Dat resulteert in dataframe waarmee we alle KPI's van elk scenario kunnen bepalen.\n",
    "\n",
    "De KPI's die we willen visualiseren zijn de volgende:\n",
    "- Aantal doden\n",
    "- Gemiddelde en maximale wachttijd van patiënten\n",
    "- Gemiddelde en maximale aantal mensen in de wachtrij\n",
    "- Gemiddelde en maximale bezetting van de bedden\n",
    "\n",
    "**Opdracht 3.1.** Data combineren en aggregeren\n",
    "\n",
    "Op basis van de statistieken van alle entiteiten uit deel 1 en de statistieken van het scenario uit deel 2, kun je alle data verzamelen om scenario' onderling te vergelijken.  \n",
    "\n",
    "Je zult twee acties moeten uitvoeren:\n",
    "1. De eerste stap is het combineren van de data: denk na over welke informatie uit opdrachten 1 en 2 interessant is om te tonen. \n",
    "2. De tweede stap is het aggregeren van data: hierbij voer je bepaalde berekeningen uit op de inhoud van alle rijen van een bepaalde feature. Bepaal eerst welke aggregaties interessant zijn en laat dat accorderen. \n",
    "**Merk op**: het kan ook mogelijk zijn dat je eerst gaat aggregeren en dan pas gaat combineren. \n",
    "\n",
    "**Opdracht 3.2.** Data visualiseren\n",
    "\n",
    "De geaggregeerde data bevat statistieken van elke run, een visualisatie kan helpen om in één oogopslag de verschillende runs met elkaar te vergelijken. \n",
    "\n",
    "Denk zelf eerst over een ontwerp van een visualisatie die kan helpen om dat doel te bereiken:\n",
    "- Welk type visualisatie leent zich hiervoor?\n",
    "- Welke features wil je visualiseren?\n",
    "\n",
    "Laat dat ontwerp accorderen en ga daarna bouwen.\n",
    "\n",
    "**Opdracht 3.3.** Bedrijfsbeslissing\n",
    "\n",
    "We sluiten af met de allerbelangrijkste opdracht: het maken van bedrijfsbeslissingen. Bepaal op basis van bovenstaande visualisaties hoe de ICU ingericht zou moeten worden om de KPI's te behalen. Onderbouw uiteraard jouw advies goed."
   ]
  }
 ],
 "metadata": {
  "kernelspec": {
   "display_name": "Python 3 (ipykernel)",
   "language": "python",
   "name": "python3"
  },
  "language_info": {
   "codemirror_mode": {
    "name": "ipython",
    "version": 3
   },
   "file_extension": ".py",
   "mimetype": "text/x-python",
   "name": "python",
   "nbconvert_exporter": "python",
   "pygments_lexer": "ipython3",
   "version": "3.9.12"
  }
 },
 "nbformat": 4,
 "nbformat_minor": 5
}
